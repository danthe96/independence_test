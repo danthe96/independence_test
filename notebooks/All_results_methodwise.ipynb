{
 "cells": [
  {
   "cell_type": "code",
   "execution_count": 1,
   "metadata": {},
   "outputs": [
    {
     "name": "stderr",
     "output_type": "stream",
     "text": [
      "Couldn't import dot_parser, loading of dot files will not be possible.\n"
     ]
    }
   ],
   "source": [
    "import sys\n",
    "sys.path.append('../../')\n",
    "from collections import defaultdict\n",
    "import itertools\n",
    "import joblib\n",
    "import numpy as np\n",
    "import matplotlib as mpl\n",
    "mpl.rc('figure', dpi=600)\n",
    "mpl.rc('savefig', dpi=600)\n",
    "%matplotlib inline\n",
    "from matplotlib import pyplot as plt\n",
    "from independence_test import experiment_cond_strength as ecs\n",
    "from independence_test.methods import cond_mixnn\n",
    "ns = np.logspace(np.log10(100), np.log10(100000), 20).astype(int)"
   ]
  },
  {
   "cell_type": "code",
   "execution_count": 20,
   "metadata": {},
   "outputs": [
    {
     "name": "stdout",
     "output_type": "stream",
     "text": [
      "dim 1 compl 1\n"
     ]
    },
    {
     "ename": "IndexError",
     "evalue": "list index out of range",
     "output_type": "error",
     "traceback": [
      "\u001b[0;31m---------------------------------------------------------------------------\u001b[0m",
      "\u001b[0;31mIndexError\u001b[0m                                Traceback (most recent call last)",
      "\u001b[0;32m<ipython-input-20-e036824d0a2d>\u001b[0m in \u001b[0;36m<module>\u001b[0;34m()\u001b[0m\n\u001b[1;32m      1\u001b[0m \u001b[0;32mfor\u001b[0m \u001b[0mmthd\u001b[0m \u001b[0;32min\u001b[0m \u001b[0;34m[\u001b[0m\u001b[0;34m'fit'\u001b[0m\u001b[0;34m,\u001b[0m \u001b[0;34m'kcit'\u001b[0m\u001b[0;34m,\u001b[0m \u001b[0;34m'rcit'\u001b[0m\u001b[0;34m,\u001b[0m \u001b[0;34m'kcipt'\u001b[0m\u001b[0;34m,\u001b[0m \u001b[0;34m'cci'\u001b[0m\u001b[0;34m]\u001b[0m\u001b[0;34m:\u001b[0m\u001b[0;34m\u001b[0m\u001b[0m\n\u001b[0;32m----> 2\u001b[0;31m     \u001b[0mplot\u001b[0m\u001b[0;34m(\u001b[0m\u001b[0;34m'chain'\u001b[0m\u001b[0;34m,\u001b[0m \u001b[0mmthd\u001b[0m\u001b[0;34m,\u001b[0m \u001b[0msave_prefix\u001b[0m\u001b[0;34m=\u001b[0m\u001b[0;34m'../arxiv/figures/fullres_'\u001b[0m\u001b[0;34m)\u001b[0m\u001b[0;34m\u001b[0m\u001b[0m\n\u001b[0m",
      "\u001b[0;32m<ipython-input-18-feab7df6b491>\u001b[0m in \u001b[0;36mplot\u001b[0;34m(DSET, method, save_prefix)\u001b[0m\n\u001b[1;32m     15\u001b[0m             key = '{}_{}_120mt_{}samples_{}dim_{}complexity'.format(\n\u001b[1;32m     16\u001b[0m                         method, DSET, n_samples, dim, compl)\n\u001b[0;32m---> 17\u001b[0;31m             \u001b[0mtime\u001b[0m \u001b[0;34m=\u001b[0m \u001b[0mres\u001b[0m\u001b[0;34m[\u001b[0m\u001b[0mkey\u001b[0m\u001b[0;34m]\u001b[0m\u001b[0;34m[\u001b[0m\u001b[0;36m0\u001b[0m\u001b[0;34m]\u001b[0m\u001b[0;34m[\u001b[0m\u001b[0;36m2\u001b[0m\u001b[0;34m]\u001b[0m\u001b[0;34m\u001b[0m\u001b[0m\n\u001b[0m\u001b[1;32m     18\u001b[0m             \u001b[0mpvald\u001b[0m \u001b[0;34m=\u001b[0m \u001b[0mres\u001b[0m\u001b[0;34m[\u001b[0m\u001b[0mkey\u001b[0m\u001b[0;34m]\u001b[0m\u001b[0;34m[\u001b[0m\u001b[0;36m0\u001b[0m\u001b[0;34m]\u001b[0m\u001b[0;34m[\u001b[0m\u001b[0;36m0\u001b[0m\u001b[0;34m]\u001b[0m\u001b[0;34m\u001b[0m\u001b[0m\n\u001b[1;32m     19\u001b[0m             \u001b[0mpvali\u001b[0m \u001b[0;34m=\u001b[0m \u001b[0mres\u001b[0m\u001b[0;34m[\u001b[0m\u001b[0mkey\u001b[0m\u001b[0;34m]\u001b[0m\u001b[0;34m[\u001b[0m\u001b[0;36m0\u001b[0m\u001b[0;34m]\u001b[0m\u001b[0;34m[\u001b[0m\u001b[0;36m1\u001b[0m\u001b[0;34m]\u001b[0m\u001b[0;34m\u001b[0m\u001b[0m\n",
      "\u001b[0;31mIndexError\u001b[0m: list index out of range"
     ]
    },
    {
     "data": {
      "text/plain": [
       "<matplotlib.figure.Figure at 0x7fc97bf19050>"
      ]
     },
     "metadata": {},
     "output_type": "display_data"
    }
   ],
   "source": [
    "for mthd in ['fit', 'kcit', 'rcit', 'kcipt', 'cci']:\n",
    "    plot('chain', mthd, save_prefix='../arxiv/figures/fullres_')"
   ]
  },
  {
   "cell_type": "code",
   "execution_count": 18,
   "metadata": {
    "collapsed": true,
    "scrolled": false
   },
   "outputs": [],
   "source": [
    "def plot(DSET, method, save_prefix=None):\n",
    "    mthd = method\n",
    "    complexities = ecs.DSETS[DSET][1]\n",
    "    dims = ecs.DSETS[DSET][2]\n",
    "    res = joblib.load('../saved_data/{}/{}.pkl'.format(DSET, method))\n",
    "    top_nsamples = {}\n",
    "    \n",
    "    plt.figure(facecolor='white', figsize=(15, 7.5), dpi=300)\n",
    "    for plt_id, (dim, compl) in enumerate(itertools.product(dims, complexities)):\n",
    "        print('dim {} compl {}'.format(dim, compl))\n",
    "        pvals_d = []\n",
    "        pvals_i = []\n",
    "        times = []\n",
    "        for n_samples in ns:\n",
    "            key = '{}_{}_120mt_{}samples_{}dim_{}complexity'.format(\n",
    "                        method, DSET, n_samples, dim, compl)\n",
    "            time = res[key][0][2]\n",
    "            pvald = res[key][0][0]\n",
    "            pvali = res[key][0][1]\n",
    "\n",
    "            if pvald < 0 or pvali < 0:\n",
    "                time = np.nan # pvals smaller than 0 indicate out of time or Matlab errors.\n",
    "                \n",
    "            pvald = max(1e-5, pvald if not np.isnan(pvald) else .5)\n",
    "            pvali = max(1e-5, pvali if not np.isnan(pvali) else .5)\n",
    "            pvals_d.append(pvald)\n",
    "            pvals_i.append(pvali)\n",
    "            times.append(time)\n",
    "        pvals_d = np.array(pvals_d)\n",
    "        pvals_i = np.array(pvals_i)\n",
    "        times = np.array(times) / 2 # Divide 'times' by 2, to get the avg of the pvali and pvald time.\n",
    "        pvals_d[np.where(np.isnan(times))[0]] = np.nan\n",
    "        pvals_i[np.where(np.isnan(times))[0]] = np.nan\n",
    "        \n",
    "        top_nsamples[(dim, compl)] = ns[len(ns) - np.sum(1-np.isnan(times)) - 1]\n",
    "\n",
    "\n",
    "        plt.suptitle('{} {} results'.format(mthd, 'lingauss' if DSET=='chain' else DSET))\n",
    "        plt.subplot(2, 5, plt_id+1)\n",
    "        #plt.title('dim={}, comp={}'.format(dim, compl))\n",
    "        plt.title('dim={}'.format(dim))\n",
    "\n",
    "        plt.xlim([ns[0], ns[-1]])\n",
    "        plt.plot(ns, pvals_d, 'ko', label = 'indep', markerfacecolor='none', markeredgecolor='black', markersize=6)\n",
    "        plt.plot(ns, pvals_i, 'ko', label = 'dep', markeredgecolor='none', markersize=4)\n",
    "        plt.hlines(.05, 0, 10**6)\n",
    "        plt.hlines(.01, 0, 10**6)\n",
    "\n",
    "        plt.yscale('log')\n",
    "        plt.ylim([1e-5-1e-6, 1.1])\n",
    "        plt.xscale('log')\n",
    "        if plt_id == 0 or plt_id == 5:\n",
    "            plt.ylabel('p-value')\n",
    "            plt.yticks([1e-5, 1e-4, 1e-3, 1e-2, 1e-1, 1e0])\n",
    "        else:\n",
    "            plt.yticks([1e-5, 1e-4, 1e-3, 1e-2, 1e-1, 1e0], [])\n",
    "        if plt_id >= 5:\n",
    "            plt.xticks([1e2, 1e3, 1e4, 1e5])\n",
    "            plt.xlabel('Number of samples')\n",
    "        else:\n",
    "            plt.xticks([1e2, 1e3, 1e4, 1e5])\n",
    "\n",
    "\n",
    "        ax=plt.subplot(2, 5, 10)\n",
    "        plt.title('Speed comparison')\n",
    "        try:\n",
    "            plt.plot(ns, times, label='d{}c{}'.format(dim, compl))\n",
    "            plt.yscale('log')\n",
    "            plt.xscale('log')\n",
    "            plt.xlabel('Number of samples')\n",
    "            plt.ylabel('Runtime (s)')\n",
    "            ax.yaxis.set_label_position(\"right\")\n",
    "            legend = ax.legend(loc='best', ncol=1)\n",
    "            legend.get_frame().set_alpha(.5)\n",
    "            plt.xticks([1e2, 1e3, 1e4, 1e5])\n",
    "            plt.xlabel('Number of samples')\n",
    "\n",
    "\n",
    "        except IndexError:\n",
    "            pass\n",
    "    np.save(open('../saved_data/{}/{}_top_nsamples'.format(DSET, method), 'w'), top_nsamples)\n",
    "    if save_prefix is not None:\n",
    "        plt.savefig('{}_{}_{}.png'.format(save_prefix, DSET, method))"
   ]
  }
 ],
 "metadata": {
  "kernelspec": {
   "display_name": "Python 2",
   "language": "python",
   "name": "python2"
  },
  "language_info": {
   "codemirror_mode": {
    "name": "ipython",
    "version": 2
   },
   "file_extension": ".py",
   "mimetype": "text/x-python",
   "name": "python",
   "nbconvert_exporter": "python",
   "pygments_lexer": "ipython2",
   "version": "2.7.6"
  }
 },
 "nbformat": 4,
 "nbformat_minor": 1
}
