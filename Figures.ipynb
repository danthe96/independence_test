{
 "cells": [
  {
   "cell_type": "code",
   "execution_count": 2,
   "metadata": {
    "collapsed": true
   },
   "outputs": [],
   "source": [
    "import numpy as np\n",
    "import matplotlib as mpl\n",
    "%matplotlib inline\n",
    "from matplotlib import pyplot as plt\n"
   ]
  },
  {
   "cell_type": "code",
   "execution_count": 17,
   "metadata": {
    "collapsed": false
   },
   "outputs": [
    {
     "data": {
      "text/plain": [
       "(-1.2353614004996187,\n",
       " 1.9595967373689402,\n",
       " -1.2353614004996187,\n",
       " 1.9595967373689402)"
      ]
     },
     "execution_count": 17,
     "metadata": {},
     "output_type": "execute_result"
    },
    {
     "data": {
      "image/png": "[encoded data removed]",
      "text/plain": [
       "<matplotlib.figure.Figure at 0x7f43792ad510>"
      ]
     },
     "metadata": {},
     "output_type": "display_data"
    }
   ],
   "source": [
    "\"\"\" Fig. 1: Walk-through of the independence \n",
    "tester working on the Chaos dataset.\"\"\"\n",
    "n_samples = 300\n",
    "gamma = .5\n",
    "x = np.zeros((n_samples, 4))\n",
    "y = np.zeros((n_samples, 4))\n",
    "x[-1, :] = np.random.randn(4) * .01\n",
    "y[-1, :] = np.random.randn(4) * .01\n",
    "for step_id in range(n_samples):\n",
    "    x[step_id, 0] = 1.4 - x[step_id-1, 0]**2 + .3 * x[step_id-1, 1]\n",
    "    y[step_id, 0] = (1.4 - (gamma * x[step_id-1, 0] * y[step_id-1, 0]\n",
    "                            + (1 - gamma) * y[step_id-1, 0]**2) +\n",
    "                     .1 * y[step_id-1, 1])\n",
    "    x[step_id, 1] = x[step_id-1, 0]\n",
    "    y[step_id, 1] = y[step_id-1, 0]\n",
    "x[:, 2:] = np.random.randn(n_samples, 2) * .5\n",
    "y[:, 2:] = np.random.randn(n_samples, 2) * .5\n",
    "\n",
    "plt.figure(figsize=(5.5, 6), facecolor='white')\n",
    "plt.subplot(2, 3, 1)\n",
    "plt.plot(y[:-1,0], y[:-1,1], 'k.')\n",
    "plt.axis('off')\n"
   ]
  }
 ],
 "metadata": {
  "kernelspec": {
   "display_name": "Python 2",
   "language": "python",
   "name": "python2"
  },
  "language_info": {
   "codemirror_mode": {
    "name": "ipython",
    "version": 2
   },
   "file_extension": ".py",
   "mimetype": "text/x-python",
   "name": "python",
   "nbconvert_exporter": "python",
   "pygments_lexer": "ipython2",
   "version": "2.7.6"
  }
 },
 "nbformat": 4,
 "nbformat_minor": 0
}
