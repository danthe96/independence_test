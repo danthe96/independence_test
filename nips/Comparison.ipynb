{
 "cells": [
  {
   "cell_type": "code",
   "execution_count": 1,
   "metadata": {
    "collapsed": false
   },
   "outputs": [],
   "source": [
    "import sys\n",
    "import joblib\n",
    "import numpy as np\n",
    "import matplotlib as mpl\n",
    "mpl.rc(\"savefig\", dpi=600)\n",
    "\n",
    "from matplotlib import pyplot as plt\n",
    "import matplotlib.patches as patches\n",
    "\n",
    "sys.path.append('../..')\n",
    "%matplotlib inline"
   ]
  },
  {
   "cell_type": "code",
   "execution_count": 2,
   "metadata": {
    "collapsed": false
   },
   "outputs": [],
   "source": [
    "RES_FNAME = '../saved_data/cond_time_results.pkl'\n",
    "N_SAMPLES = [100, 200, 400, 800, 1600, 3200, 6400, 12800]\n",
    "DIM = [8, 16, 32, 64, 128, 256, 512, 1024]\n",
    "results = joblib.load(RES_FNAME)\n",
    "res_mats = {}\n",
    "for method in ['chsic', 'kcit', 'kcipt', 'nn', 'rcit']:\n",
    "    res_mats[method] = np.zeros((len(N_SAMPLES), len(DIM)))\n",
    "    for row_id, n_samples in enumerate(N_SAMPLES):\n",
    "        for col_id, dim in enumerate(DIM):\n",
    "            try:\n",
    "                reslist = np.array(results[method + '_{}_{}'.format(n_samples, dim)])                    \n",
    "                if np.sum(reslist == -1) > 0 or np.mean(reslist[:, 2]) > 31:\n",
    "                    # Out of time.\n",
    "                    res_mats[method][col_id, row_id] = 0\n",
    "                elif np.sum(reslist == -2) > 0:\n",
    "                    # Matlab error.\n",
    "                    res_mats[method][col_id, row_id] = -2\n",
    "                elif np.sum(reslist[:, 0] > .05) > 5:\n",
    "                    # Too many Type I errors.\n",
    "                    res_mats[method][col_id, row_id] = -1\n",
    "                elif np.sum(reslist[:, 1] < .05) > 5:\n",
    "                    # Too many Type II errors.\n",
    "                    res_mats[method][col_id, row_id] = -1\n",
    "                else:\n",
    "                    res_mats[method][col_id, row_id] = 1\n",
    "            except KeyError:\n",
    "                pass\n",
    "    #res_mats[method][res_mats[method] == -2] = np.nan\n",
    "    res_mats[method] = res_mats[method].T"
   ]
  },
  {
   "cell_type": "code",
   "execution_count": 3,
   "metadata": {
    "collapsed": false,
    "scrolled": true
   },
   "outputs": [
    {
     "data": {
      "text/plain": [
       "<matplotlib.text.Text at 0x7f4ab6cd9f10>"
      ]
     },
     "execution_count": 3,
     "metadata": {},
     "output_type": "execute_result"
    },
    {
     "data": {
      "image/png": "[encoded data removed]",
      "text/plain": [
       "<matplotlib.figure.Figure at 0x7f4ab90fcd50>"
      ]
     },
     "metadata": {},
     "output_type": "display_data"
    }
   ],
   "source": [
    "fig = plt.figure(figsize=(12, 3), facecolor='white', dpi=600)\n",
    "cmap = plt.get_cmap('coolwarm_r')\n",
    "cmap.set_bad('black',1.)\n",
    "cmap.set_under('white', 1.)\n",
    "\n",
    "ax = plt.subplot(1, 5, 1)\n",
    "plt.title('CHSIC')\n",
    "plt.xlabel('Data dimensionality')\n",
    "plt.xticks([0, 1, 2, 3, 4, 5, 6, 7], DIM, rotation=45)\n",
    "plt.ylabel('Number of samples')\n",
    "plt.yticks([0, 1, 2, 3, 4, 5, 6, 7], N_SAMPLES)\n",
    "ax.tick_params(direction='in')\n",
    "plt.imshow(res_mats['chsic'], vmin=-2, vmax=1, cmap=cmap)\n",
    "\n",
    "ax = plt.subplot(1, 5, 2)\n",
    "plt.title('KCIT')\n",
    "plt.xlabel('Data dimensionality')\n",
    "plt.xticks([0, 1, 2, 3, 4, 5, 6, 7], DIM, rotation=45)\n",
    "plt.yticks([0, 1, 2, 3, 4, 5, 6, 7], [])\n",
    "ax.tick_params(direction='in')\n",
    "plt.imshow(res_mats['kcit'], vmin=-2, vmax=1, cmap=cmap)\n",
    "\n",
    "ax = plt.subplot(1, 5, 3)\n",
    "plt.title('KCIPT')\n",
    "plt.xlabel('Data dimensionality')\n",
    "plt.xticks([0, 1, 2, 3, 4, 5, 6, 7], DIM, rotation=45)\n",
    "plt.yticks([0, 1, 2, 3, 4, 5, 6, 7], [])\n",
    "ax.tick_params(direction='in')\n",
    "plt.imshow(res_mats['kcipt'], vmin=-2, vmax=1, cmap=cmap)\n",
    "\n",
    "ax = plt.subplot(1, 5, 4)\n",
    "plt.title('RCIT')\n",
    "plt.xlabel('Data dimensionality')\n",
    "plt.xticks([0, 1, 2, 3, 4, 5, 6, 7], DIM, rotation=45)\n",
    "plt.yticks([0, 1, 2, 3, 4, 5, 6, 7], [])\n",
    "ax.tick_params(direction='in')\n",
    "plt.imshow(res_mats['rcit'], vmin=-2, vmax=1, cmap=cmap)\n",
    "\n",
    "ax = plt.subplot(1, 5, 5)\n",
    "plt.title('NN (ours)')\n",
    "plt.xlabel('Data dimensionality')\n",
    "plt.xticks([0, 1, 2, 3, 4, 5, 6, 7], DIM, rotation=45)\n",
    "plt.yticks([0, 1, 2, 3, 4, 5, 6, 7], [])\n",
    "ax.tick_params(direction='in')\n",
    "plt.imshow(res_mats['nn'], vmin=-2, vmax=1, cmap=cmap)\n",
    "\n",
    "ax = fig.add_axes([0.06, -.1, .85, .1])\n",
    "plt.axis('off')\n",
    "ax.add_patch(\n",
    "    patches.Rectangle((0, 0), .25, 1, facecolor=cmap(0))\n",
    ")\n",
    "plt.text(0.05, 0.25, 'Abnormal exit', fontsize=12)\n",
    "\n",
    "ax.add_patch(\n",
    "    patches.Rectangle((.25, 0), .25, 1, facecolor=cmap(1/3.))\n",
    ")\n",
    "plt.text(0.3, 0.25, 'Low power/size', fontsize=12)\n",
    "\n",
    "ax.add_patch(\n",
    "    patches.Rectangle((.5, 0), .25, 1, facecolor=cmap(2/3.))\n",
    ")\n",
    "plt.text(0.54, 0.25, 'Out of time (30s)', fontsize=12)\n",
    "\n",
    "ax.add_patch(\n",
    "    patches.Rectangle((.75, 0), .25, 1, facecolor=cmap(1.))\n",
    ")\n",
    "plt.text(0.8, 0.25, 'Fast and correct', fontsize=12, color='white')"
   ]
  },
  {
   "cell_type": "code",
   "execution_count": null,
   "metadata": {
    "collapsed": false
   },
   "outputs": [],
   "source": [
    "from independence_test.experiment_settings import SAMPLE_NUMS, DSETS\n",
    "from independence_test.utils import pc_ks\n",
    "DSET_NAME = 'chaos'\n",
    "RES_FNAME = '../saved_data/{}_results.pkl'.format(DSET_NAME)\n",
    "res = joblib.load(RES_FNAME)\n",
    "res_mats = {}\n",
    "for method in ['chsic', 'kcit', 'nn', 'rcit', 'kcipt']:\n",
    "    for key in res.keys():\n",
    "        pval_d = np.array(res[key])[:, 0]\n",
    "        pval_i = np.array(res[key])[:, 1]\n",
    "        res_mats[key] = (pc_ks(pval_d)[0], pc_ks(pval_i)[1], np.median(pval_i), 1-pc_ks(pval_i)[0])"
   ]
  },
  {
   "cell_type": "code",
   "execution_count": null,
   "metadata": {
    "collapsed": false
   },
   "outputs": [],
   "source": [
    "proc_res = {}\n",
    "GAMMA = DSETS[DSET_NAME][1]\n",
    "for method in ['chsic', 'kcit', 'kcipt', 'nn', 'rcit']:\n",
    "    proc_res[method] = {}\n",
    "    proc_res[method]['auc'] = np.zeros((len(SAMPLE_NUMS), len(GAMMA)))\n",
    "    proc_res[method]['ks'] = np.zeros((len(SAMPLE_NUMS), len(GAMMA)))\n",
    "    proc_res[method]['ksauc'] = np.zeros((len(SAMPLE_NUMS), len(GAMMA)))\n",
    "\n",
    "    for row_id, n_samples in enumerate(SAMPLE_NUMS):\n",
    "        for col_id, gamma in enumerate(GAMMA):\n",
    "            res = res_mats[method + '_chaos_30mt_' + str(n_samples) + 'samples_1dim_' + str(gamma) + 'complexity']\n",
    "            proc_res[method]['auc'][row_id, col_id] = res[0]\n",
    "            proc_res[method]['ks'][row_id, col_id] = res[1]\n",
    "            proc_res[method]['ksauc'][row_id, col_id] = res[2]\n",
    "    #res_mats[method][res_mats[method] == -2] = np.nan\n"
   ]
  },
  {
   "cell_type": "code",
   "execution_count": null,
   "metadata": {
    "collapsed": false
   },
   "outputs": [],
   "source": [
    "# Make x-labels\n",
    "ticklabels = []\n",
    "for n_samples in SAMPLE_NUMS:\n",
    "    for gamma in GAMMA:\n",
    "        ticklabels.append('ns={}, g={}'.format(n_samples, gamma))\n",
    "\n",
    "plt.figure(figsize=(9*1.5, 2*1.5), facecolor='white', dpi=600)\n",
    "plt.subplot(1,3,1)\n",
    "plt.title('Dependent chaos data')\n",
    "plt.ylim([-.01,1.1])\n",
    "plt.plot(proc_res['kcit']['auc'].flatten(), 'o', label='kcit')\n",
    "plt.plot(proc_res['rcit']['auc'].flatten(), 'o', label='rcit')\n",
    "plt.plot(proc_res['chsic']['auc'].flatten(), 'o', label='chsic')\n",
    "plt.plot(proc_res['nn']['auc'].flatten(), 'kx', label='nn', markersize=10)\n",
    "plt.yticks([0, .5, 1])\n",
    "plt.xticks(range(len(ticklabels)), ticklabels, rotation=90)\n",
    "plt.ylabel('AUC')\n",
    "plt.grid('on')\n",
    "plt.legend()\n",
    "\n",
    "plt.subplot(1,3,2)\n",
    "plt.ylim([1e-20,1.1])\n",
    "plt.axhline(.05)\n",
    "#plt.yscale('log')\n",
    "TYPE = 'ksauc'\n",
    "plt.title('Independent chaos data')\n",
    "plt.plot(proc_res['kcit'][TYPE].flatten(), 'o', label='kcit')\n",
    "plt.plot(proc_res['rcit'][TYPE].flatten(), 'o', label='rcit')\n",
    "plt.plot(proc_res['chsic'][TYPE].flatten(), 'o', label='chsic')\n",
    "plt.plot(proc_res['nn'][TYPE].flatten(), 'kx', label='nn', markersize=10)\n",
    "plt.yticks([0, .05, .5, 1])\n",
    "plt.xticks(range(len(ticklabels)), ticklabels, rotation=90)\n",
    "plt.ylabel('median p')\n",
    "plt.grid('on')\n",
    "\n",
    "plt.subplot(1,3,3)\n",
    "plt.ylim([1e-20,1.1])\n",
    "plt.axhline(.05)\n",
    "#plt.yscale('log')\n",
    "TYPE = 'ks'\n",
    "plt.title('Independent chaos data')\n",
    "plt.plot(proc_res['kcit'][TYPE].flatten(), 'o', label='kcit')\n",
    "plt.plot(proc_res['rcit'][TYPE].flatten(), 'o', label='rcit')\n",
    "plt.plot(proc_res['chsic'][TYPE].flatten(), 'o', label='chsic')\n",
    "plt.plot(proc_res['nn'][TYPE].flatten(), 'kx', label='nn', markersize=10)\n",
    "plt.yticks([0, .05, .5, 1])\n",
    "plt.xticks(range(len(ticklabels)), ticklabels, rotation=90)\n",
    "plt.ylabel('KS p-value')\n",
    "plt.grid('on')\n",
    "\n",
    "\n",
    "#plt.imshow(proc_res['kcit']['auc'], cmap='coolwarm_r')"
   ]
  },
  {
   "cell_type": "code",
   "execution_count": null,
   "metadata": {
    "collapsed": false
   },
   "outputs": [],
   "source": [
    "DSET_NAME = 'chaos'\n",
    "RES_FNAME = '../saved_data/tmp'.format(DSET_NAME)\n",
    "res = joblib.load(RES_FNAME)\n",
    "res_mats = {}\n",
    "for method in ['nn']:\n",
    "    for key in res.keys():\n",
    "        pval_d = np.array(res[key])[:, 0]\n",
    "        pval_i = np.array(res[key])[:, 1]\n",
    "        res_mats[key] = (pc_ks(pval_d)[0], pc_ks(pval_i)[1], np.median(pval_i), 1-pc_ks(pval_i)[0])\n",
    "        \n",
    "proc_res = {}\n",
    "GAMMA = DSETS[DSET_NAME][1]\n",
    "for method in ['nn']:\n",
    "    proc_res[method] = {}\n",
    "    proc_res[method]['auc'] = np.zeros((len(SAMPLE_NUMS), len(GAMMA)))\n",
    "    proc_res[method]['ks'] = np.zeros((len(SAMPLE_NUMS), len(GAMMA)))\n",
    "    proc_res[method]['ksauc'] = np.zeros((len(SAMPLE_NUMS), len(GAMMA)))\n",
    "\n",
    "    for row_id, n_samples in enumerate(SAMPLE_NUMS):\n",
    "        for col_id, gamma in enumerate(GAMMA):\n",
    "            res = res_mats[method + '_chaos_120mt_' + str(n_samples) + 'samples_1dim_' + str(gamma) + 'complexity']\n",
    "            proc_res[method]['auc'][row_id, col_id] = res[0]\n",
    "            proc_res[method]['ks'][row_id, col_id] = res[1]\n",
    "            proc_res[method]['ksauc'][row_id, col_id] = res[2]"
   ]
  },
  {
   "cell_type": "code",
   "execution_count": null,
   "metadata": {
    "collapsed": false
   },
   "outputs": [],
   "source": [
    "plt.figure(facecolor='white')\n",
    "plt.ylim([1e-20,1.1])\n",
    "plt.axhline(.05)\n",
    "#plt.yscale('log')\n",
    "TYPE = 'ksauc'\n",
    "plt.title('Independent chaos data')\n",
    "plt.plot(proc_res['nn'][TYPE].flatten(), 'kx', label='nn', markersize=10)\n",
    "plt.yticks([0, .05, .5, 1])\n",
    "plt.xticks(range(len(ticklabels)), ticklabels, rotation=90)\n",
    "plt.ylabel('median p')\n",
    "plt.grid('on')\n"
   ]
  }
 ],
 "metadata": {
  "kernelspec": {
   "display_name": "Python 2",
   "language": "python",
   "name": "python2"
  },
  "language_info": {
   "codemirror_mode": {
    "name": "ipython",
    "version": 2
   },
   "file_extension": ".py",
   "mimetype": "text/x-python",
   "name": "python",
   "nbconvert_exporter": "python",
   "pygments_lexer": "ipython2",
   "version": "2.7.6"
  }
 },
 "nbformat": 4,
 "nbformat_minor": 0
}
