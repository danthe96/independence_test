{
 "cells": [
  {
   "cell_type": "code",
   "execution_count": null,
   "metadata": {
    "collapsed": false
   },
   "outputs": [],
   "source": [
    "from collections import defaultdict\n",
    "import itertools\n",
    "import joblib\n",
    "import numpy as np\n",
    "import matplotlib as mpl\n",
    "mpl.rc('figure', dpi=600)\n",
    "mpl.rc('savefig', dpi=600)\n",
    "%matplotlib inline\n",
    "from matplotlib import pyplot as plt\n",
    "\n",
    "# Load small-scale results.\n",
    "res = joblib.load('../saved_data/pnl_results.pkl')\n",
    "ns = np.concatenate([\n",
    "    np.floor(np.linspace(200, 1000, 25)),\n",
    "    np.floor(np.linspace(1001, 10000, 75))]).astype(int)\n",
    "\n",
    "dims = [1]\n",
    "complexities = [1]"
   ]
  },
  {
   "cell_type": "code",
   "execution_count": null,
   "metadata": {
    "collapsed": false,
    "scrolled": false
   },
   "outputs": [],
   "source": [
    "for dim, compl in itertools.product(dims, complexities):\n",
    "    print('dim {} compl {}'.format(dim, compl))\n",
    "    pvals_d = defaultdict(list)\n",
    "    pvals_i = defaultdict(list)\n",
    "    times = defaultdict(list)\n",
    "\n",
    "    for mthd in ['nn', 'rcit', 'kcit', 'kcipt', 'cci']:\n",
    "        for n_samples in ns:\n",
    "            results = np.array(res['{}_discrete_600mt_{}samples_{}dim_{}complexity'.format(\n",
    "                        mthd, n_samples, dim, compl)])\n",
    "            if results[0][0] >= 0:\n",
    "                pvals_d[mthd].append(results[:, 0].mean())\n",
    "                pvals_i[mthd].append(results[:, 1].mean())\n",
    "                times[mthd].append(results[:, 2].mean())\n",
    "                smallest_p = min(smallest_p, np.min(pvals_d[mthd]))\n",
    "\n",
    "    plt.figure(facecolor='white', figsize=(10, 8), dpi=300)\n",
    "    plt.suptitle('Discrete data, dimensionality {}, complexity {}'.format(\n",
    "        dim, compl))\n",
    "    for mthd_id, mthd in enumerate(['nn', 'rcit', 'kcit', 'kcipt', 'cci']):\n",
    "        plt.subplot(2, 3, mthd_id+1)\n",
    "        plt.title(mthd + ' performance')\n",
    "        plt.xlim([ns[0], ns[-1]])\n",
    "        data_len = len(pvals_d[mthd])\n",
    "        plt.plot(ns[:data_len], pvals_d[mthd], '.', label = 'dep')\n",
    "        plt.plot(ns[:data_len], pvals_i[mthd], 'rx', label = 'indep')\n",
    "        plt.hlines(.05, 0, 10**6)\n",
    "        plt.hlines(.01, 0, 10**6)\n",
    "\n",
    "        plt.yscale('log')\n",
    "        plt.ylim([1e-5, 1])\n",
    "        plt.xscale('log')\n",
    "        if mthd_id == 0 or mthd_id == 3:\n",
    "            plt.yticks([1e-5, 1e-4, 1e-3, 1e-2, 1e-1, 1])\n",
    "            plt.ylabel('p-value')\n",
    "        else:\n",
    "            plt.yticks([1e-5, 1e-4, 1e-3, 1e-2, 1e-1, 1], [])\n",
    "        if mthd_id > 2:\n",
    "            plt.xticks([1e3, 1e4])\n",
    "            plt.xlabel('Number of samples')\n",
    "        else:\n",
    "            plt.xticks([1e3, 1e4], [])\n",
    "\n",
    "    for mthd_id, mthd in enumerate(['nn', 'rcit', 'kcit', 'kcipt', 'cci']):\n",
    "        ax=plt.subplot(2, 3, 6)\n",
    "        plt.title('Speed comparison')\n",
    "        try:\n",
    "            t = times[mthd]\n",
    "            t[t < 0] = np.nan\n",
    "            n_data = len(pvals_i[mthd])\n",
    "            plt.plot(ns[:n_data], times[mthd], label=mthd)\n",
    "            plt.yscale('log')\n",
    "            plt.xscale('log')\n",
    "            plt.xlabel('Number of samples')\n",
    "            plt.ylabel('Runtime')\n",
    "            legend = plt.legend(loc=0)\n",
    "            legend.get_frame().set_alpha(0.5)\n",
    "            ax.yaxis.tick_right()\n",
    "            ax.yaxis.set_label_position(\"right\")\n",
    "        except IndexError:\n",
    "            pass"
   ]
  }
 ],
 "metadata": {
  "kernelspec": {
   "display_name": "Python 2",
   "language": "python",
   "name": "python2"
  },
  "language_info": {
   "codemirror_mode": {
    "name": "ipython",
    "version": 2
   },
   "file_extension": ".py",
   "mimetype": "text/x-python",
   "name": "python",
   "nbconvert_exporter": "python",
   "pygments_lexer": "ipython2",
   "version": "2.7.6"
  }
 },
 "nbformat": 4,
 "nbformat_minor": 0
}
